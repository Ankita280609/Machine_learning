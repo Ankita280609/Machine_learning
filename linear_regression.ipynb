{
  "nbformat": 4,
  "nbformat_minor": 0,
  "metadata": {
    "colab": {
      "provenance": [],
      "authorship_tag": "ABX9TyPVMDIaKwbxhLF4TVcskUia",
      "include_colab_link": true
    },
    "kernelspec": {
      "name": "python3",
      "display_name": "Python 3"
    },
    "language_info": {
      "name": "python"
    }
  },
  "cells": [
    {
      "cell_type": "markdown",
      "metadata": {
        "id": "view-in-github",
        "colab_type": "text"
      },
      "source": [
        "<a href=\"https://colab.research.google.com/github/Ankita280609/Machine_learning/blob/main/linear_regression.ipynb\" target=\"_parent\"><img src=\"https://colab.research.google.com/assets/colab-badge.svg\" alt=\"Open In Colab\"/></a>"
      ]
    },
    {
      "cell_type": "code",
      "execution_count": 1,
      "metadata": {
        "id": "UK_S4iklZqqQ"
      },
      "outputs": [],
      "source": [
        "import pandas as pd\n",
        "import numpy as np\n",
        "import matplotlib.pyplot as plt"
      ]
    },
    {
      "cell_type": "code",
      "source": [
        "class LinearRegression:\n",
        "  def __init__(self)->None:\n",
        "    self.w:np.ndarray=None\n",
        "    self.b:float=None\n",
        "  def predict(self,x:np.ndarray)->np.ndarray:\n",
        "    y_pred=np.dot(self.w,x.T)+self.b\n",
        "    return y_pred\n",
        "  def __loss(self,x:np.ndarray,y:np.ndarray,norm:int)->tuple:\n",
        "    y_pred=self.predict(x)\n",
        "    n=x.shape[0]\n",
        "    errors=np.abs(y_pred-y)**norm\n",
        "    loss=np.sum(errors)/n\n",
        "    gradient_base=norm*np.sign(y_pred-y)*(np.abs(y_pred-y)**(norm-1))\n",
        "    db=np.sum(gradient_base)/n\n",
        "    dw=np.dot(gradient_base.T,x)/n\n",
        "    return loss,dw,db\n",
        "  def fit(self,x:np.ndarray,y:np.ndarray,epochs:int=500,alpha:float=0.01,norm:int=2,threshold:float=0.0001)->None:\n",
        "    x=np.asarray(x,dtype=np.float64)\n",
        "    y=np.asarray(y,dtype=np.float64)\n",
        "    n_features=x.shape[1]\n",
        "    self.w=np.zeros(shape=(n_features,1),dtype=np.float64)\n",
        "    self.b=0.0\n",
        "\n",
        "\n",
        "\n",
        ""
      ],
      "metadata": {
        "id": "EzR1Eb7GZ-nT"
      },
      "execution_count": null,
      "outputs": []
    },
    {
      "cell_type": "code",
      "source": [],
      "metadata": {
        "id": "yppuzfmIZ-lT"
      },
      "execution_count": null,
      "outputs": []
    },
    {
      "cell_type": "code",
      "source": [],
      "metadata": {
        "id": "wcLyjI_-Z-i0"
      },
      "execution_count": null,
      "outputs": []
    },
    {
      "cell_type": "code",
      "source": [],
      "metadata": {
        "id": "8y_RTGtRZ-gi"
      },
      "execution_count": null,
      "outputs": []
    },
    {
      "cell_type": "code",
      "source": [],
      "metadata": {
        "id": "VDq8PqqUZ-dq"
      },
      "execution_count": null,
      "outputs": []
    },
    {
      "cell_type": "code",
      "source": [],
      "metadata": {
        "id": "ikYlRSSzZ-WP"
      },
      "execution_count": null,
      "outputs": []
    }
  ]
}